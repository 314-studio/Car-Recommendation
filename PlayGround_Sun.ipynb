{
 "cells": [
  {
   "cell_type": "code",
   "execution_count": 40,
   "metadata": {},
   "outputs": [],
   "source": [
    "import pandas as pd\n",
    "import numpy as np\n",
    "import json\n",
    "import time\n",
    "from datetime import date"
   ]
  },
  {
   "cell_type": "markdown",
   "metadata": {},
   "source": [
    "代码学习和测试 负责人：孙川"
   ]
  },
  {
   "cell_type": "code",
   "execution_count": 59,
   "metadata": {},
   "outputs": [],
   "source": [
    "parking_data = pd.read_excel('parking_record.xlsx', 'parkingrecord')\n",
    "parking_data = parking_data.drop('CarID', axis=1)\n",
    "#values = np.array(values_np)\n",
    "#json_data = json.dumps(values)\n",
    "parking_data.loc[:, '入场时间'] = parking_data['入场时间'].apply(lambda x: pd.to_datetime(str(x)).strftime('%Y-%m-%d %H:%M:%S'))\n",
    "parking_data.loc[:, '出场时间'] = parking_data['出场时间'].apply(lambda x: pd.to_datetime(str(x)).strftime('%Y-%m-%d %H:%M:%S'))\n",
    "#parking_data.loc[:, '停车场名称'] = parking_data['停车场名称'].apply(lambda x: x.decode('unicode_escape'))\n",
    "#parking_data.loc[:, '停车场地址'] = parking_data['停车场地址'].apply(lambda x: x.decode('unicode_escape'))\n",
    "values = parking_data.values.tolist()\n",
    "json_data = json.dumps(values, ensure_ascii=False, indent=2)\n",
    "#values\n",
    "with open(\"parking_data.json\",\"w\") as f:\n",
    "     json.dump(json_data,f)"
   ]
  },
  {
   "cell_type": "code",
   "execution_count": null,
   "metadata": {},
   "outputs": [],
   "source": []
  }
 ],
 "metadata": {
  "kernelspec": {
   "display_name": "Python 3",
   "language": "python",
   "name": "python3"
  },
  "language_info": {
   "codemirror_mode": {
    "name": "ipython",
    "version": 3
   },
   "file_extension": ".py",
   "mimetype": "text/x-python",
   "name": "python",
   "nbconvert_exporter": "python",
   "pygments_lexer": "ipython3",
   "version": "3.7.0"
  }
 },
 "nbformat": 4,
 "nbformat_minor": 2
}
